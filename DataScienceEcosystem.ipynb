{
 "cells": [
  {
   "cell_type": "markdown",
   "id": "8f9fe2b4-b535-4537-b8df-0fa0be9d5586",
   "metadata": {},
   "source": [
    "# Data Science Tools and Ecosystem"
   ]
  },
  {
   "cell_type": "markdown",
   "id": "6204652c-7516-4623-b573-36022877bbdb",
   "metadata": {},
   "source": [
    "In this notebook, Data Science Tools and Ecosystem are summarized."
   ]
  },
  {
   "cell_type": "code",
   "execution_count": null,
   "id": "a6ac0ee0-b1b6-4988-84e7-c555b4a0745e",
   "metadata": {},
   "outputs": [],
   "source": [
    "## Some of the popular languages that Data Scientists use are:\n",
    "\n",
    "1. Python\n",
    "2. R\n",
    "3. Julia (or add another language)"
   ]
  },
  {
   "cell_type": "code",
   "execution_count": null,
   "id": "e793dffb-7957-4d56-b7ba-2b4c003e2832",
   "metadata": {},
   "outputs": [],
   "source": [
    "## Some of the commonly used libraries used by Data Science include:\n",
    "\n",
    "1. Pandas: Used for data manipulation and analysis.\n",
    "2. NumPy: Provides foundational structures for numerical computing.\n",
    "3. Matplotlib: Creates static, animated, and interactive visualizations.\n"
   ]
  },
  {
   "cell_type": "code",
   "execution_count": null,
   "id": "0e8f87b5-b17e-48d9-b477-68383039d810",
   "metadata": {},
   "outputs": [],
   "source": [
    "## Data Science Tools\n",
    "\n",
    "| Tool |\n",
    "|---|---|\n",
    "| Jupyter Notebook |\n",
    "| Visual Studio Code |\n",
    "| RStudio |"
   ]
  },
  {
   "cell_type": "code",
   "execution_count": null,
   "id": "f24cceed-ed37-49b2-bcfb-ca82b84650c1",
   "metadata": {},
   "outputs": [],
   "source": [
    "### Below are a few examples of evaluating arithmetic expressions in Python"
   ]
  },
  {
   "cell_type": "code",
   "execution_count": null,
   "id": "b3ae05d8-8340-4588-9b3e-ef03f4357560",
   "metadata": {},
   "outputs": [],
   "source": [
    "# This a simple arithmetic expression to mutiply then add integers"
   ]
  },
  {
   "cell_type": "code",
   "execution_count": 1,
   "id": "8a21d579-b083-419e-9b43-22560b31f65e",
   "metadata": {},
   "outputs": [
    {
     "data": {
      "text/plain": [
       "17"
      ]
     },
     "execution_count": 1,
     "metadata": {},
     "output_type": "execute_result"
    }
   ],
   "source": [
    "(3*4)+5"
   ]
  },
  {
   "cell_type": "code",
   "execution_count": null,
   "id": "2eeed723-2903-4446-9ef5-aafcde6be95b",
   "metadata": {},
   "outputs": [],
   "source": [
    "# This will convert 200 minutes to hours by diving by 60"
   ]
  },
  {
   "cell_type": "code",
   "execution_count": 2,
   "id": "683c093d-cc66-4106-b9e6-5900207d370f",
   "metadata": {},
   "outputs": [
    {
     "data": {
      "text/plain": [
       "3.3333333333333335"
      ]
     },
     "execution_count": 2,
     "metadata": {},
     "output_type": "execute_result"
    }
   ],
   "source": [
    "200/60"
   ]
  },
  {
   "cell_type": "markdown",
   "id": "1324785b-baaf-410f-abb0-a0b254a6cda4",
   "metadata": {},
   "source": [
    "# In this notebook, Data Science Tools and Ecosystems are summarized"
   ]
  },
  {
   "cell_type": "markdown",
   "id": "56e57618-48d5-4687-ad0f-389461fa93dd",
   "metadata": {},
   "source": [
    "# **Objectives**:\n",
    "* Commonly language for Data Science\n",
    "* Commonly used Data Science Libraries\n",
    "* Data Science Tools"
   ]
  },
  {
   "cell_type": "code",
   "execution_count": null,
   "id": "e302a052-7370-4afb-af9b-20752fa61e6d",
   "metadata": {},
   "outputs": [],
   "source": [
    "## Autor \n",
    "Francisco Jesus Navas Martin de Pozuelo"
   ]
  }
 ],
 "metadata": {
  "kernelspec": {
   "display_name": "Python 3 (ipykernel)",
   "language": "python",
   "name": "python3"
  },
  "language_info": {
   "codemirror_mode": {
    "name": "ipython",
    "version": 3
   },
   "file_extension": ".py",
   "mimetype": "text/x-python",
   "name": "python",
   "nbconvert_exporter": "python",
   "pygments_lexer": "ipython3",
   "version": "3.12.4"
  }
 },
 "nbformat": 4,
 "nbformat_minor": 5
}
